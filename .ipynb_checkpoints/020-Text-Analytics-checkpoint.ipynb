{
 "cells": [
  {
   "cell_type": "markdown",
   "metadata": {},
   "source": [
    "## Text Analytics\n",
    "###In which we analyze the Mood of the nation from inferences on SOTU by the POTUS\n",
    "###   (State Of The Union addresses by the President Of The US)\n",
    "\n",
    "#### Goal is to find interesting words in the speeches that reflect the times.\n",
    "\n",
    "####Am sure Lincoln didn't worry about WMDs and Iraq; neither did George Washington about inflation, Wall Street and Jobs."
   ]
  },
  {
   "cell_type": "code",
   "execution_count": null,
   "metadata": {
    "collapsed": false
   },
   "outputs": [],
   "source": [
    "from pyspark.context import SparkContext\n",
    "print \"Running Spark Version %s\" % (sc.version)"
   ]
  },
  {
   "cell_type": "code",
   "execution_count": null,
   "metadata": {
    "collapsed": false
   },
   "outputs": [],
   "source": [
    "from pyspark.conf import SparkConf\n",
    "conf = SparkConf()\n",
    "print conf.toDebugString()"
   ]
  },
  {
   "cell_type": "markdown",
   "metadata": {},
   "source": [
    "###MapReduce in one line !\n",
    "###1. Split lines into words on space\n",
    "###2. Create key-value pair with key=word, value = 1\n",
    "###3. Sum value for each word (er ... key)\n",
    "###4. Then we get key-value RDD with key=word and value = number of times the word occured in a document"
   ]
  },
  {
   "cell_type": "code",
   "execution_count": null,
   "metadata": {
    "collapsed": false
   },
   "outputs": [],
   "source": [
    "# imports\n",
    "from operator import add"
   ]
  },
  {
   "cell_type": "code",
   "execution_count": null,
   "metadata": {
    "collapsed": false
   },
   "outputs": [],
   "source": [
    "lines = sc.textFile(\"sotu/2009-2014-BO.txt\")\n",
    "word_count_bo = lines.flatMap(lambda x: x.split(' ')).\\\n",
    "    map(lambda x: (x.lower().rstrip().lstrip().rstrip(',').rstrip('.'), 1)).\\\n",
    "    reduceByKey(add)\n",
    "word_count_bo.count()\n",
    "#6658 without lower, 6299 with lower, rstrip,lstrip 4835"
   ]
  },
  {
   "cell_type": "code",
   "execution_count": null,
   "metadata": {
    "collapsed": false
   },
   "outputs": [],
   "source": [
    "lines = sc.textFile(\"sotu/2009-2015-BO.txt\")\n",
    "word_count_bo_2015 = lines.flatMap(lambda x: x.split(' ')).\\\n",
    "    map(lambda x: (x.lower().rstrip().lstrip().rstrip(',').rstrip('.').replace(u\"\\u2019\", \"'\"), 1)).\\\n",
    "    reduceByKey(add)\n",
    "word_count_bo_2015.count()"
   ]
  },
  {
   "cell_type": "code",
   "execution_count": null,
   "metadata": {
    "collapsed": false
   },
   "outputs": [],
   "source": [
    "#output = word_count_bo.collect()\n",
    "#for (word, count) in output:\n",
    "#    print \"%s: %i\" % (word, count)"
   ]
  },
  {
   "cell_type": "code",
   "execution_count": null,
   "metadata": {
    "collapsed": false
   },
   "outputs": [],
   "source": [
    "lines = sc.textFile(\"sotu/2001-2008-GWB.txt\")\n",
    "word_count_gwb = lines.flatMap(lambda x: x.split(' ')).map(lambda x: (x.lower().rstrip().lstrip().rstrip(',').rstrip('.'), 1)).reduceByKey(add)\n",
    "word_count_gwb.count()"
   ]
  },
  {
   "cell_type": "code",
   "execution_count": null,
   "metadata": {
    "collapsed": false
   },
   "outputs": [],
   "source": [
    "lines = sc.textFile(\"sotu/1994-2000-WJC.txt\")\n",
    "word_count_wjc = lines.flatMap(lambda x: x.split(' ')).map(lambda x: (x.lower().rstrip().lstrip().rstrip(',').rstrip('.'), 1)).reduceByKey(add)\n",
    "word_count_wjc.count()"
   ]
  },
  {
   "cell_type": "code",
   "execution_count": null,
   "metadata": {
    "collapsed": false
   },
   "outputs": [],
   "source": [
    "lines = sc.textFile(\"sotu/1961-1963-JFK.txt\")\n",
    "word_count_jfk = lines.flatMap(lambda x: x.split(' ')).map(lambda x: (x.lower().rstrip().lstrip().rstrip(',').rstrip('.'), 1)).reduceByKey(add)\n",
    "word_count_jfk.count()"
   ]
  },
  {
   "cell_type": "code",
   "execution_count": null,
   "metadata": {
    "collapsed": false
   },
   "outputs": [],
   "source": [
    "lines = sc.textFile(\"sotu/1934-1945-FDR.txt\")\n",
    "word_count_fdr = lines.flatMap(lambda x: x.split(' ')).map(lambda x: (x.lower().rstrip().lstrip().rstrip(',').rstrip('.'), 1)).reduceByKey(add)\n",
    "word_count_fdr.count()"
   ]
  },
  {
   "cell_type": "code",
   "execution_count": null,
   "metadata": {
    "collapsed": false
   },
   "outputs": [],
   "source": [
    "lines = sc.textFile(\"sotu/1861-1864-AL.txt\")\n",
    "word_count_al = lines.flatMap(lambda x: x.split(' ')).map(lambda x: (x.lower().rstrip().lstrip().rstrip(',').rstrip('.'), 1)).reduceByKey(add)\n",
    "word_count_al.count()"
   ]
  },
  {
   "cell_type": "code",
   "execution_count": null,
   "metadata": {
    "collapsed": false
   },
   "outputs": [],
   "source": [
    "lines = sc.textFile(\"sotu/1790-1796-GW.txt\")\n",
    "word_count_gw = lines.flatMap(lambda x: x.split(' ')).map(lambda x: (x.lower().rstrip().lstrip().rstrip(',').rstrip('.'), 1)).reduceByKey(add)\n",
    "word_count_gw.count()"
   ]
  },
  {
   "cell_type": "code",
   "execution_count": null,
   "metadata": {
    "collapsed": false
   },
   "outputs": [],
   "source": [
    "common_words = [\"\",\"us\",\"has\",\"all\", \"they\", \"from\", \"who\",\"what\",\"on\",\"by\",\"more\",\"as\",\"not\",\"their\",\"can\",\n",
    "                             \"new\",\"it\",\"but\",\"be\",\"are\",\"--\",\"i\",\"have\",\"this\",\"will\",\"for\",\"with\",\"is\",\"that\",\"in\",\n",
    "                             \"our\",\"we\",\"a\",\"of\",\"to\",\"and\",\"the\",\"that's\",\"or\",\"make\",\"do\",\"you\",\"at\",\"it\\'s\",\"than\",\n",
    "                             \"if\",\"know\",\"last\",\"about\",\"no\",\"just\",\"now\",\"an\",\"because\",\"<p>we\",\"why\",\"we\\'ll\",\"how\",\n",
    "                             \"two\",\"also\",\"every\",\"come\",\"we've\",\"year\",\"over\",\"get\",\"take\",\"one\",\"them\",\"we\\'re\",\"need\",\n",
    "                             \"want\",\"when\",\"like\",\"most\",\"-\",\"been\",\"first\",\"where\",\"so\",\"these\",\"they\\'re\",\"good\",\"would\",\n",
    "                             \"there\",\"should\",\"-->\",\"<!--\",\"up\",\"i\\'m\",\"his\",\"their\",\"which\",\"may\",\"were\",\"such\",\"some\",\n",
    "                             \"those\",\"was\",\"here\",\"she\",\"he\",\"its\",\"her\",\"his\",\"don\\'t\",\"i\\'ve\",\"what\\'s\",\"didn\\'t\",\n",
    "                             \"shouldn\\'t\",\"(applause.)\",\"let\\'s\",\"doesn\\'t\",\"(laughter.)\"]"
   ]
  },
  {
   "cell_type": "code",
   "execution_count": null,
   "metadata": {
    "collapsed": false
   },
   "outputs": [],
   "source": [
    "word_count_bo_1 = word_count_bo.sortBy(lambda x: x[1],ascending=False)"
   ]
  },
  {
   "cell_type": "code",
   "execution_count": null,
   "metadata": {
    "collapsed": false
   },
   "outputs": [],
   "source": [
    "for x in word_count_bo_1.take(10):\n",
    "    print x"
   ]
  },
  {
   "cell_type": "code",
   "execution_count": null,
   "metadata": {
    "collapsed": false
   },
   "outputs": [],
   "source": [
    "word_count_bo_clean = word_count_bo_1.filter(lambda x: x[0] not in common_words)"
   ]
  },
  {
   "cell_type": "code",
   "execution_count": null,
   "metadata": {
    "collapsed": false
   },
   "outputs": [],
   "source": [
    "word_count_bo_clean.count()"
   ]
  },
  {
   "cell_type": "code",
   "execution_count": null,
   "metadata": {
    "collapsed": false
   },
   "outputs": [],
   "source": [
    "for x in word_count_bo_clean.take(20):\n",
    "    print x"
   ]
  },
  {
   "cell_type": "code",
   "execution_count": null,
   "metadata": {
    "collapsed": false
   },
   "outputs": [],
   "source": [
    "word_count_bo_2015_clean = word_count_bo_2015.filter(lambda x: x[0] not in common_words)"
   ]
  },
  {
   "cell_type": "code",
   "execution_count": null,
   "metadata": {
    "collapsed": false
   },
   "outputs": [],
   "source": [
    "word_count_gwb_clean = word_count_gwb.filter(lambda x: x[0] not in common_words)\n",
    "word_count_gwb_clean.count()\n",
    "for x in word_count_gwb_clean.sortBy(lambda x: x[1],ascending=False).take(15):\n",
    "    print x"
   ]
  },
  {
   "cell_type": "code",
   "execution_count": null,
   "metadata": {
    "collapsed": false
   },
   "outputs": [],
   "source": [
    "word_count_wjc_clean = word_count_wjc.filter(lambda x: x[0] not in common_words)\n",
    "word_count_wjc_clean.count()\n",
    "for x in word_count_wjc_clean.sortBy(lambda x: x[1],ascending=False).take(15):\n",
    "    print x"
   ]
  },
  {
   "cell_type": "code",
   "execution_count": null,
   "metadata": {
    "collapsed": false
   },
   "outputs": [],
   "source": [
    "word_count_jfk_clean = word_count_wjc.filter(lambda x: x[0] not in common_words)\n",
    "word_count_jfk_clean.count()\n",
    "for x in word_count_jfk_clean.sortBy(lambda x: x[1],ascending=False).take(15):\n",
    "    print x"
   ]
  },
  {
   "cell_type": "code",
   "execution_count": null,
   "metadata": {
    "collapsed": false
   },
   "outputs": [],
   "source": [
    "word_count_fdr_clean = word_count_fdr.filter(lambda x: x[0] not in common_words)\n",
    "word_count_fdr_clean.count()\n",
    "for x in word_count_fdr_clean.sortBy(lambda x: x[1],ascending=False).take(15):\n",
    "    print x"
   ]
  },
  {
   "cell_type": "code",
   "execution_count": null,
   "metadata": {
    "collapsed": false
   },
   "outputs": [],
   "source": [
    "word_count_al_clean = word_count_al.filter(lambda x: x[0] not in common_words)\n",
    "word_count_al_clean.count()\n",
    "for x in word_count_al_clean.sortBy(lambda x: x[1],ascending=False).take(15):\n",
    "    print x"
   ]
  },
  {
   "cell_type": "code",
   "execution_count": null,
   "metadata": {
    "collapsed": false
   },
   "outputs": [],
   "source": [
    "word_count_gw_clean = word_count_gw.filter(lambda x: x[0] not in common_words)\n",
    "word_count_gw_clean.count()\n",
    "for x in word_count_gw_clean.sortBy(lambda x: x[1],ascending=False).take(15):\n",
    "    print x"
   ]
  },
  {
   "cell_type": "markdown",
   "metadata": {},
   "source": [
    "## Has Barack Obama changed in 2015 ?\n",
    "### As reflected in the SOTU 2009-2015 vs SOTU 2009-2014 ?"
   ]
  },
  {
   "cell_type": "code",
   "execution_count": null,
   "metadata": {
    "collapsed": false
   },
   "outputs": [],
   "source": [
    "for x in word_count_bo_2015_clean.subtractByKey(word_count_bo_clean).sortBy(lambda x: x[1],ascending=False).take(15):\n",
    "    print x"
   ]
  },
  {
   "cell_type": "markdown",
   "metadata": {},
   "source": [
    "#Coding Exercise\n",
    "## What mood was the country in 1790-1796 vs 2009-2015 ?\n",
    "### Hint:\n",
    "### 1. word_count_gw_clean = 1790-1796-GW.txt\n",
    "### 2. word_count_bo_2015_clean"
   ]
  },
  {
   "cell_type": "code",
   "execution_count": null,
   "metadata": {
    "collapsed": false
   },
   "outputs": [],
   "source": [
    "<FILL IN>"
   ]
  },
  {
   "cell_type": "code",
   "execution_count": null,
   "metadata": {
    "collapsed": false
   },
   "outputs": [],
   "source": [
    "<FILL IN>"
   ]
  },
  {
   "cell_type": "markdown",
   "metadata": {},
   "source": [
    "###Now it is easy to see Obama vs. FDR or WJC vs. AL ..."
   ]
  },
  {
   "cell_type": "code",
   "execution_count": null,
   "metadata": {
    "collapsed": false
   },
   "outputs": [],
   "source": [
    "for x in word_count_fdr_clean.subtractByKey(word_count_bo_clean).sortBy(lambda x: x[1],ascending=False).take(15):\n",
    "    print x"
   ]
  },
  {
   "cell_type": "code",
   "execution_count": null,
   "metadata": {
    "collapsed": false
   },
   "outputs": [],
   "source": [
    "for x in word_count_bo_clean.subtractByKey(word_count_fdr_clean).sortBy(lambda x: x[1],ascending=False).take(15):\n",
    "    print x"
   ]
  },
  {
   "cell_type": "code",
   "execution_count": null,
   "metadata": {
    "collapsed": false
   },
   "outputs": [],
   "source": [
    "for x in word_count_bo_clean.subtractByKey(word_count_wjc_clean).sortBy(lambda x: x[1],ascending=False).take(15):\n",
    "    print x"
   ]
  },
  {
   "cell_type": "code",
   "execution_count": null,
   "metadata": {
    "collapsed": false
   },
   "outputs": [],
   "source": [
    "for x in word_count_bo_clean.subtractByKey(word_count_gwb_clean).sortBy(lambda x: x[1],ascending=False).take(15):\n",
    "    print x"
   ]
  },
  {
   "cell_type": "code",
   "execution_count": null,
   "metadata": {
    "collapsed": false
   },
   "outputs": [],
   "source": [
    "for x in word_count_bo_clean.subtractByKey(word_count_al_clean).sortBy(lambda x: x[1],ascending=False).take(15): #collect():\n",
    "    print x"
   ]
  },
  {
   "cell_type": "code",
   "execution_count": null,
   "metadata": {
    "collapsed": false
   },
   "outputs": [],
   "source": [
    "for x in word_count_wjc_clean.subtractByKey(word_count_al_clean).sortBy(lambda x: x[1],ascending=False).take(15): #collect():\n",
    "    print x"
   ]
  },
  {
   "cell_type": "code",
   "execution_count": null,
   "metadata": {
    "collapsed": false
   },
   "outputs": [],
   "source": [
    "for x in word_count_gwb_clean.subtractByKey(word_count_al_clean).sortBy(lambda x: x[1],ascending=False).take(15): #collect():\n",
    "    print x"
   ]
  },
  {
   "cell_type": "code",
   "execution_count": null,
   "metadata": {
    "collapsed": false
   },
   "outputs": [],
   "source": [
    "for x in word_count_al_clean.subtractByKey(word_count_bo_clean).sortBy(lambda x: x[1],ascending=False).take(15): #collect():\n",
    "    print x"
   ]
  },
  {
   "cell_type": "code",
   "execution_count": null,
   "metadata": {
    "collapsed": false
   },
   "outputs": [],
   "source": [
    "for x in word_count_al_clean.subtractByKey(word_count_wjc_clean).sortBy(lambda x: x[1],ascending=False).take(15): #collect():\n",
    "    print x"
   ]
  },
  {
   "cell_type": "markdown",
   "metadata": {},
   "source": [
    "## That is All Folks !"
   ]
  },
  {
   "cell_type": "code",
   "execution_count": null,
   "metadata": {
    "collapsed": false
   },
   "outputs": [],
   "source": []
  }
 ],
 "metadata": {
  "kernelspec": {
   "display_name": "Python 2",
   "language": "python",
   "name": "python2"
  },
  "language_info": {
   "codemirror_mode": {
    "name": "ipython",
    "version": 2
   },
   "file_extension": ".py",
   "mimetype": "text/x-python",
   "name": "python",
   "nbconvert_exporter": "python",
   "pygments_lexer": "ipython2",
   "version": "2.7.10"
  }
 },
 "nbformat": 4,
 "nbformat_minor": 0
}
