{
 "cells": [
  {
   "cell_type": "code",
   "execution_count": null,
   "metadata": {
    "collapsed": false
   },
   "outputs": [],
   "source": [
    "import datetime\n",
    "from pytz import timezone\n",
    "print \"Last run @%s\" % (datetime.datetime.now(timezone('US/Pacific')))"
   ]
  },
  {
   "cell_type": "code",
   "execution_count": null,
   "metadata": {
    "collapsed": false
   },
   "outputs": [],
   "source": [
    "from pyspark.context import SparkContext\n",
    "print \"Running Spark Version %s\" % (sc.version)"
   ]
  },
  {
   "cell_type": "code",
   "execution_count": null,
   "metadata": {
    "collapsed": false
   },
   "outputs": [],
   "source": [
    "from pyspark.conf import SparkConf\n",
    "conf = SparkConf()\n",
    "print conf.toDebugString()"
   ]
  },
  {
   "cell_type": "code",
   "execution_count": null,
   "metadata": {
    "collapsed": true
   },
   "outputs": [],
   "source": [
    "# Read Orders\n",
    "orders = sqlContext.read.format('com.databricks.spark.csv').options(header='true').load('NW/NW-Orders.csv')"
   ]
  },
  {
   "cell_type": "code",
   "execution_count": null,
   "metadata": {
    "collapsed": true
   },
   "outputs": [],
   "source": [
    "order_details = sqlContext.read.format('com.databricks.spark.csv').options(header='true').load('NW/NW-Order-Details.csv')"
   ]
  },
  {
   "cell_type": "code",
   "execution_count": null,
   "metadata": {
    "collapsed": true
   },
   "outputs": [],
   "source": [
    "products = sqlContext.read.format('com.databricks.spark.csv').options(header='true').load('NW/NW-Products.csv')"
   ]
  },
  {
   "cell_type": "code",
   "execution_count": null,
   "metadata": {
    "collapsed": false
   },
   "outputs": [],
   "source": [
    "orders.count()"
   ]
  },
  {
   "cell_type": "code",
   "execution_count": null,
   "metadata": {
    "collapsed": true
   },
   "outputs": [],
   "source": [
    "# Save as parquet format for folks who couldn't make spark-csv work\n",
    "orders.repartition(1).write.mode(\"overwrite\").format(\"parquet\").save(\"orders.parquet\")\n",
    "order_details.repartition(1).write.mode(\"overwrite\").format(\"parquet\").save(\"order_details.parquet\")\n",
    "products.repartition(1).write.mode(\"overwrite\").format(\"parquet\").save(\"products.parquet\")"
   ]
  },
  {
   "cell_type": "code",
   "execution_count": null,
   "metadata": {
    "collapsed": false
   },
   "outputs": [],
   "source": [
    "# Read & Check\n",
    "df = sqlContext.read.load(\"orders.parquet\")\n",
    "df.show(5)\n",
    "df.count()"
   ]
  },
  {
   "cell_type": "code",
   "execution_count": null,
   "metadata": {
    "collapsed": false
   },
   "outputs": [],
   "source": [
    "# Read & Check\n",
    "df = sqlContext.read.load(\"products.parquet\")\n",
    "df.show(5)\n",
    "df.count()"
   ]
  },
  {
   "cell_type": "code",
   "execution_count": null,
   "metadata": {
    "collapsed": false
   },
   "outputs": [],
   "source": [
    "# Read & Check\n",
    "df = sqlContext.read.load(\"order_details.parquet\")\n",
    "df.show(5)\n",
    "df.count()"
   ]
  },
  {
   "cell_type": "code",
   "execution_count": null,
   "metadata": {
    "collapsed": false
   },
   "outputs": [],
   "source": [
    "order_details.count()"
   ]
  },
  {
   "cell_type": "code",
   "execution_count": null,
   "metadata": {
    "collapsed": false
   },
   "outputs": [],
   "source": [
    "orders.show(10)"
   ]
  },
  {
   "cell_type": "code",
   "execution_count": null,
   "metadata": {
    "collapsed": false
   },
   "outputs": [],
   "source": [
    "order_details.show(10)"
   ]
  },
  {
   "cell_type": "code",
   "execution_count": null,
   "metadata": {
    "collapsed": false
   },
   "outputs": [],
   "source": [
    "products.count()"
   ]
  },
  {
   "cell_type": "code",
   "execution_count": null,
   "metadata": {
    "collapsed": false
   },
   "outputs": [],
   "source": [
    "products.show(1)"
   ]
  },
  {
   "cell_type": "code",
   "execution_count": null,
   "metadata": {
    "collapsed": true
   },
   "outputs": [],
   "source": [
    "# Questions\n",
    "# 1. How many orders were placed by each customer? \n",
    "# 2. How many orders were placed by each country ?\n",
    "# 3. How many orders by month/year ?\n",
    "# 4. Total Sales for each customer by year\n",
    "# 5. Average order by customer by year\n",
    "# These are questions based on customer and sales reports\n",
    "# Similar questions can be asked about products as well"
   ]
  },
  {
   "cell_type": "code",
   "execution_count": null,
   "metadata": {
    "collapsed": false
   },
   "outputs": [],
   "source": [
    "orders.dtypes"
   ]
  },
  {
   "cell_type": "code",
   "execution_count": null,
   "metadata": {
    "collapsed": false
   },
   "outputs": [],
   "source": [
    "# 1. How many orders were placed by each customer? \n",
    "#<Fill in>\n",
    "Orders."
   ]
  },
  {
   "cell_type": "code",
   "execution_count": null,
   "metadata": {
    "collapsed": false
   },
   "outputs": [],
   "source": [
    "# 2. How many orders were placed by each country ?\n",
    "#<Fill in>\n",
    "orders."
   ]
  },
  {
   "cell_type": "code",
   "execution_count": null,
   "metadata": {
    "collapsed": true
   },
   "outputs": [],
   "source": [
    "# For the next set of questions, let us transform the data\n",
    "# 1. Add OrderTotal column to the Orders DataFrame\n",
    "# 1.1. Add Line total to order details\n",
    "# 1.2. Aggregate total by order id\n",
    "# 1.3. Join order details & orders to add the order total\n",
    "# 1.4. Check if there are any null columns\n",
    "# 2. Add a date column\n",
    "# 3. Add month and year"
   ]
  },
  {
   "cell_type": "code",
   "execution_count": null,
   "metadata": {
    "collapsed": false
   },
   "outputs": [],
   "source": [
    "# 1.1. Add Line total to order details\n",
    "order_details_1 = order_details.select(order_details['OrderID'],\n",
    "                                       (<Fill in> *\n",
    "                                       <Fill in> *\n",
    "                                       (1.0 - <Fill in>)).alias('OrderPrice'))"
   ]
  },
  {
   "cell_type": "code",
   "execution_count": null,
   "metadata": {
    "collapsed": false
   },
   "outputs": [],
   "source": [
    "order_details_1.show(10)"
   ]
  },
  {
   "cell_type": "code",
   "execution_count": null,
   "metadata": {
    "collapsed": true
   },
   "outputs": [],
   "source": [
    "# 1.2. Aggregate total by order id\n",
    "order_tot = order_details_1.<Fill in>"
   ]
  },
  {
   "cell_type": "code",
   "execution_count": null,
   "metadata": {
    "collapsed": false
   },
   "outputs": [],
   "source": [
    "order_tot.orderBy('OrderID').show(5)"
   ]
  },
  {
   "cell_type": "code",
   "execution_count": null,
   "metadata": {
    "collapsed": false
   },
   "outputs": [],
   "source": [
    "# 1.3. Join order details & orders to add the order total\n",
    "orders_1 = orders.join(<Fill in>)"
   ]
  },
  {
   "cell_type": "code",
   "execution_count": null,
   "metadata": {
    "collapsed": false
   },
   "outputs": [],
   "source": [
    "orders_1.orderBy('CustomerID').show()"
   ]
  },
  {
   "cell_type": "code",
   "execution_count": null,
   "metadata": {
    "collapsed": false
   },
   "outputs": [],
   "source": [
    "# 1.4. Check if there are any null columns\n",
    "orders_1.filter(<Fill in>).show(40)"
   ]
  },
  {
   "cell_type": "code",
   "execution_count": null,
   "metadata": {
    "collapsed": false
   },
   "outputs": [],
   "source": [
    "import pyspark.sql.functions as F\n",
    "from pyspark.sql.types import DateType,IntegerType\n",
    "from datetime import datetime\n",
    "convertToDate = F.udf(lambda s: datetime.strptime(s, '%m/%d/%y'), DateType())\n",
    "getMonth = F.udf(lambda d:d.month, IntegerType())\n",
    "getYear = F.udf(lambda d:d.year, IntegerType())"
   ]
  },
  {
   "cell_type": "code",
   "execution_count": null,
   "metadata": {
    "collapsed": true
   },
   "outputs": [],
   "source": [
    "# 2. Add a date column\n",
    "orders_2 = orders_1.withColumn(<Fill in>)"
   ]
  },
  {
   "cell_type": "code",
   "execution_count": null,
   "metadata": {
    "collapsed": false
   },
   "outputs": [],
   "source": [
    "orders_2.show(2)"
   ]
  },
  {
   "cell_type": "code",
   "execution_count": null,
   "metadata": {
    "collapsed": false
   },
   "outputs": [],
   "source": [
    "# 3. Add month and year\n",
    "orders_3 = orders_2.withColumn(<Fill in>)"
   ]
  },
  {
   "cell_type": "code",
   "execution_count": null,
   "metadata": {
    "collapsed": false
   },
   "outputs": [],
   "source": [
    "orders_3.show(5)"
   ]
  },
  {
   "cell_type": "code",
   "execution_count": null,
   "metadata": {
    "collapsed": false
   },
   "outputs": [],
   "source": [
    "# 3. How many orders by month/year ?\n",
    "import time\n",
    "start_time = time.time()\n",
    "orders_3.groupBy(<Fill in>\n",
    "print \"Elapsed : %f\" % (time.time() - start_time)\n",
    "#[7/3/15 8:20 PM 1.4.1] Elapsed : 22.788190"
   ]
  },
  {
   "cell_type": "code",
   "execution_count": null,
   "metadata": {
    "collapsed": false
   },
   "outputs": [],
   "source": [
    "# 4. Total Sales for each customer by year\n",
    "import time\n",
    "start_time = time.time()\n",
    "orders_3.groupBy(<Fill in>\n",
    "print \"%s Elapsed : %f\" % (datetime.today(), time.time() - start_time)\n",
    "#[1.4.1] 2015-07-03 20:29:37.499064 Elapsed : 18.372916"
   ]
  },
  {
   "cell_type": "code",
   "execution_count": null,
   "metadata": {
    "collapsed": false
   },
   "outputs": [],
   "source": [
    "# 5. Average order by customer by year\n",
    "import time\n",
    "start_time = time.time()\n",
    "orders_3.groupBy(<Fill in>\n",
    "print \"%s Elapsed : %.2f\" % (datetime.today(), time.time() - start_time)\n",
    "#[1.4.1] 2015-07-03 20:32:14.734800 Elapsed : 18.88"
   ]
  },
  {
   "cell_type": "code",
   "execution_count": null,
   "metadata": {
    "collapsed": false
   },
   "outputs": [],
   "source": [
    "# 6. Average order by customer\n",
    "import time\n",
    "start_time = time.time()\n",
    "orders_3.groupBy(<Fill in>\n",
    "print \"%s Elapsed : %.2f\" % (datetime.today(), time.time() - start_time)\n",
    "#[1.4.1] 2015-07-03 20:33:21.634902 Elapsed : 20.15"
   ]
  },
  {
   "cell_type": "markdown",
   "metadata": {
    "collapsed": true
   },
   "source": [
    "##_That's ALL Folks !_"
   ]
  },
  {
   "cell_type": "code",
   "execution_count": null,
   "metadata": {
    "collapsed": true
   },
   "outputs": [],
   "source": []
  }
 ],
 "metadata": {
  "kernelspec": {
   "display_name": "Python 2",
   "language": "python",
   "name": "python2"
  },
  "language_info": {
   "codemirror_mode": {
    "name": "ipython",
    "version": 2
   },
   "file_extension": ".py",
   "mimetype": "text/x-python",
   "name": "python",
   "nbconvert_exporter": "python",
   "pygments_lexer": "ipython2",
   "version": "2.7.10"
  }
 },
 "nbformat": 4,
 "nbformat_minor": 0
}
